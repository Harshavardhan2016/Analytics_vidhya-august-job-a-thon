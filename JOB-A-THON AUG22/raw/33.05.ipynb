{
 "cells": [
  {
   "cell_type": "code",
   "execution_count": 1,
   "id": "e448be77",
   "metadata": {},
   "outputs": [],
   "source": [
    "import numpy as np\n",
    "import pandas as pd\n",
    "import seaborn as sns\n",
    "import matplotlib.pyplot as plt\n",
    "%matplotlib inline"
   ]
  },
  {
   "cell_type": "code",
   "execution_count": 2,
   "id": "a5e2fbbe",
   "metadata": {},
   "outputs": [],
   "source": [
    "train= pd.read_csv(\"train_E1GspfA.csv\")"
   ]
  },
  {
   "cell_type": "code",
   "execution_count": 3,
   "id": "49b7add4",
   "metadata": {},
   "outputs": [],
   "source": [
    "test=pd.read_csv(\"test_6QvDdzb.csv\")"
   ]
  },
  {
   "cell_type": "code",
   "execution_count": 4,
   "id": "5ef63d83",
   "metadata": {},
   "outputs": [],
   "source": [
    "ran=pd.read_csv(\"sample_4E0BhPN.csv\")"
   ]
  },
  {
   "cell_type": "code",
   "execution_count": 5,
   "id": "0ec5fb0c",
   "metadata": {},
   "outputs": [
    {
     "data": {
      "text/plain": [
       "((18247, 3), (7650, 2), (7650, 3))"
      ]
     },
     "execution_count": 5,
     "metadata": {},
     "output_type": "execute_result"
    }
   ],
   "source": [
    "train.shape,test.shape,ran.shape"
   ]
  },
  {
   "cell_type": "code",
   "execution_count": 6,
   "id": "6bd9f24b",
   "metadata": {},
   "outputs": [
    {
     "name": "stdout",
     "output_type": "stream",
     "text": [
      "<class 'pandas.core.frame.DataFrame'>\n",
      "RangeIndex: 18247 entries, 0 to 18246\n",
      "Data columns (total 3 columns):\n",
      " #   Column  Non-Null Count  Dtype \n",
      "---  ------  --------------  ----- \n",
      " 0   date    18247 non-null  object\n",
      " 1   hour    18247 non-null  int64 \n",
      " 2   demand  18247 non-null  int64 \n",
      "dtypes: int64(2), object(1)\n",
      "memory usage: 427.8+ KB\n"
     ]
    }
   ],
   "source": [
    "train.info()"
   ]
  },
  {
   "cell_type": "code",
   "execution_count": 7,
   "id": "6e490629",
   "metadata": {},
   "outputs": [
    {
     "name": "stdout",
     "output_type": "stream",
     "text": [
      "<class 'pandas.core.frame.DataFrame'>\n",
      "RangeIndex: 7650 entries, 0 to 7649\n",
      "Data columns (total 2 columns):\n",
      " #   Column  Non-Null Count  Dtype \n",
      "---  ------  --------------  ----- \n",
      " 0   date    7650 non-null   object\n",
      " 1   hour    7650 non-null   int64 \n",
      "dtypes: int64(1), object(1)\n",
      "memory usage: 119.7+ KB\n"
     ]
    }
   ],
   "source": [
    "test.info()"
   ]
  },
  {
   "cell_type": "code",
   "execution_count": 8,
   "id": "17a0d1bd",
   "metadata": {},
   "outputs": [
    {
     "data": {
      "text/plain": [
       "(Timestamp('2021-02-28 00:00:00'), Timestamp('2018-08-18 00:00:00'))"
      ]
     },
     "execution_count": 8,
     "metadata": {},
     "output_type": "execute_result"
    }
   ],
   "source": [
    "train['date']=pd.to_datetime(train['date'],format='%Y-%m-%d',errors='coerce')\n",
    "\n",
    "train['date'].max(),train['date'].min()"
   ]
  },
  {
   "cell_type": "code",
   "execution_count": 9,
   "id": "15edefbd",
   "metadata": {},
   "outputs": [
    {
     "data": {
      "text/plain": [
       "(Timestamp('2022-03-28 00:00:00'), Timestamp('2021-03-01 00:00:00'))"
      ]
     },
     "execution_count": 9,
     "metadata": {},
     "output_type": "execute_result"
    }
   ],
   "source": [
    "test['date']=pd.to_datetime(test['date'],format='%Y-%m-%d',errors='coerce')\n",
    "\n",
    "test['date'].max(),test['date'].min()"
   ]
  },
  {
   "cell_type": "code",
   "execution_count": 10,
   "id": "595916a8",
   "metadata": {},
   "outputs": [],
   "source": [
    "entry=train['date'].value_counts().to_dict()\n",
    "train['entry'] = train['date'].map(entry)\n",
    "\n",
    "# cant map so not using as feature"
   ]
  },
  {
   "cell_type": "code",
   "execution_count": 11,
   "id": "05631a38",
   "metadata": {},
   "outputs": [],
   "source": [
    "entry=test['date'].value_counts().to_dict()\n",
    "test['entry'] = test['date'].map(entry)"
   ]
  },
  {
   "cell_type": "code",
   "execution_count": 12,
   "id": "36b6ecfa",
   "metadata": {},
   "outputs": [
    {
     "name": "stderr",
     "output_type": "stream",
     "text": [
      "C:\\Users\\DELL\\AppData\\Local\\Temp/ipykernel_6808/3797659524.py:5: FutureWarning: Series.dt.weekofyear and Series.dt.week have been deprecated.  Please use Series.dt.isocalendar().week instead.\n",
      "  train['week']=train['date'].dt.week\n"
     ]
    }
   ],
   "source": [
    "train['Month']=train['date'].dt.month\n",
    "train['day']=train['date'].dt.day\n",
    "train['day_week']=train['date'].dt.weekday\n",
    "train['quarter']=train['date'].dt.quarter\n",
    "train['week']=train['date'].dt.week"
   ]
  },
  {
   "cell_type": "code",
   "execution_count": 13,
   "id": "8ae08e65",
   "metadata": {},
   "outputs": [
    {
     "name": "stderr",
     "output_type": "stream",
     "text": [
      "C:\\Users\\DELL\\AppData\\Local\\Temp/ipykernel_6808/4210389814.py:5: FutureWarning: Series.dt.weekofyear and Series.dt.week have been deprecated.  Please use Series.dt.isocalendar().week instead.\n",
      "  test['week']=test['date'].dt.week\n"
     ]
    }
   ],
   "source": [
    "test['Month']=test['date'].dt.month\n",
    "test['day']=test['date'].dt.day\n",
    "test['day_week']=test['date'].dt.weekday\n",
    "test['quarter']=test['date'].dt.quarter\n",
    "test['week']=test['date'].dt.week"
   ]
  },
  {
   "cell_type": "markdown",
   "id": "97cddd5c",
   "metadata": {},
   "source": [
    "## Feature making\n"
   ]
  },
  {
   "cell_type": "code",
   "execution_count": 14,
   "id": "43188b99",
   "metadata": {
    "scrolled": true
   },
   "outputs": [],
   "source": [
    "hm=train.groupby(['hour'])['demand'].mean().to_dict()\n",
    "hs=train.groupby(['hour'])['demand'].std().to_dict()"
   ]
  },
  {
   "cell_type": "code",
   "execution_count": 15,
   "id": "7caf2cdb",
   "metadata": {},
   "outputs": [],
   "source": [
    "train['hm']=train['hour'].map(hm)\n",
    "test['hm']=test['hour'].map(hm)\n",
    "\n",
    "train['hs']=train['hour'].map(hs)\n",
    "test['hs']=test['hour'].map(hs)"
   ]
  },
  {
   "cell_type": "code",
   "execution_count": 16,
   "id": "8ff83d27",
   "metadata": {},
   "outputs": [
    {
     "data": {
      "text/plain": [
       "(array([13, 15, 14, 16, 17, 18, 10, 11, 19,  9, 20,  7, 21, 24, 22, 23],\n",
       "       dtype=int64),\n",
       " array([23, 22, 24, 21, 20, 19, 18, 17, 14], dtype=int64))"
      ]
     },
     "execution_count": 16,
     "metadata": {},
     "output_type": "execute_result"
    }
   ],
   "source": [
    "train['entry'].unique(),test['entry'].unique()"
   ]
  },
  {
   "cell_type": "code",
   "execution_count": 17,
   "id": "2217dc11",
   "metadata": {},
   "outputs": [],
   "source": [
    "ehm=train.groupby(['Month'])['demand'].mean()\n",
    "ehs=train.groupby(['Month'])['demand'].std()"
   ]
  },
  {
   "cell_type": "code",
   "execution_count": 18,
   "id": "56d67243",
   "metadata": {},
   "outputs": [],
   "source": [
    "train['ehm'] = train['Month'].map(ehm)\n",
    "train['ehs'] = train['Month'].map(ehs)"
   ]
  },
  {
   "cell_type": "code",
   "execution_count": 19,
   "id": "021ee55d",
   "metadata": {},
   "outputs": [],
   "source": [
    "test['ehm'] = test['Month'].map(ehm)\n",
    "test['ehs'] = test['Month'].map(ehs)"
   ]
  },
  {
   "cell_type": "code",
   "execution_count": 20,
   "id": "6312bdf1",
   "metadata": {},
   "outputs": [
    {
     "data": {
      "text/html": [
       "<div>\n",
       "<style scoped>\n",
       "    .dataframe tbody tr th:only-of-type {\n",
       "        vertical-align: middle;\n",
       "    }\n",
       "\n",
       "    .dataframe tbody tr th {\n",
       "        vertical-align: top;\n",
       "    }\n",
       "\n",
       "    .dataframe thead th {\n",
       "        text-align: right;\n",
       "    }\n",
       "</style>\n",
       "<table border=\"1\" class=\"dataframe\">\n",
       "  <thead>\n",
       "    <tr style=\"text-align: right;\">\n",
       "      <th></th>\n",
       "      <th>hour</th>\n",
       "      <th>demand</th>\n",
       "      <th>entry</th>\n",
       "      <th>Month</th>\n",
       "      <th>day</th>\n",
       "      <th>day_week</th>\n",
       "      <th>quarter</th>\n",
       "      <th>week</th>\n",
       "      <th>hm</th>\n",
       "      <th>hs</th>\n",
       "      <th>ehm</th>\n",
       "      <th>ehs</th>\n",
       "    </tr>\n",
       "  </thead>\n",
       "  <tbody>\n",
       "    <tr>\n",
       "      <th>count</th>\n",
       "      <td>18247.000000</td>\n",
       "      <td>18247.000000</td>\n",
       "      <td>18247.000000</td>\n",
       "      <td>18247.000000</td>\n",
       "      <td>18247.000000</td>\n",
       "      <td>18247.000000</td>\n",
       "      <td>18247.000000</td>\n",
       "      <td>18247.000000</td>\n",
       "      <td>18247.000000</td>\n",
       "      <td>18247.000000</td>\n",
       "      <td>18247.000000</td>\n",
       "      <td>18247.000000</td>\n",
       "    </tr>\n",
       "    <tr>\n",
       "      <th>mean</th>\n",
       "      <td>12.614731</td>\n",
       "      <td>73.991451</td>\n",
       "      <td>20.676659</td>\n",
       "      <td>6.470324</td>\n",
       "      <td>15.782430</td>\n",
       "      <td>3.025867</td>\n",
       "      <td>2.501233</td>\n",
       "      <td>26.543706</td>\n",
       "      <td>73.991451</td>\n",
       "      <td>38.134046</td>\n",
       "      <td>73.991451</td>\n",
       "      <td>39.938372</td>\n",
       "    </tr>\n",
       "    <tr>\n",
       "      <th>std</th>\n",
       "      <td>6.544963</td>\n",
       "      <td>41.678988</td>\n",
       "      <td>2.201813</td>\n",
       "      <td>3.618189</td>\n",
       "      <td>8.772904</td>\n",
       "      <td>2.003638</td>\n",
       "      <td>1.167955</td>\n",
       "      <td>15.828694</td>\n",
       "      <td>15.100602</td>\n",
       "      <td>7.529657</td>\n",
       "      <td>8.753737</td>\n",
       "      <td>8.149379</td>\n",
       "    </tr>\n",
       "    <tr>\n",
       "      <th>min</th>\n",
       "      <td>0.000000</td>\n",
       "      <td>1.000000</td>\n",
       "      <td>7.000000</td>\n",
       "      <td>1.000000</td>\n",
       "      <td>1.000000</td>\n",
       "      <td>0.000000</td>\n",
       "      <td>1.000000</td>\n",
       "      <td>1.000000</td>\n",
       "      <td>49.097633</td>\n",
       "      <td>28.839183</td>\n",
       "      <td>64.308677</td>\n",
       "      <td>32.966208</td>\n",
       "    </tr>\n",
       "    <tr>\n",
       "      <th>25%</th>\n",
       "      <td>8.000000</td>\n",
       "      <td>43.000000</td>\n",
       "      <td>20.000000</td>\n",
       "      <td>3.000000</td>\n",
       "      <td>8.000000</td>\n",
       "      <td>1.000000</td>\n",
       "      <td>1.000000</td>\n",
       "      <td>12.000000</td>\n",
       "      <td>59.585608</td>\n",
       "      <td>30.605050</td>\n",
       "      <td>67.603868</td>\n",
       "      <td>34.594835</td>\n",
       "    </tr>\n",
       "    <tr>\n",
       "      <th>50%</th>\n",
       "      <td>13.000000</td>\n",
       "      <td>71.000000</td>\n",
       "      <td>21.000000</td>\n",
       "      <td>7.000000</td>\n",
       "      <td>16.000000</td>\n",
       "      <td>3.000000</td>\n",
       "      <td>3.000000</td>\n",
       "      <td>27.000000</td>\n",
       "      <td>70.292824</td>\n",
       "      <td>35.864088</td>\n",
       "      <td>73.252600</td>\n",
       "      <td>38.470985</td>\n",
       "    </tr>\n",
       "    <tr>\n",
       "      <th>75%</th>\n",
       "      <td>18.000000</td>\n",
       "      <td>98.000000</td>\n",
       "      <td>22.000000</td>\n",
       "      <td>10.000000</td>\n",
       "      <td>23.000000</td>\n",
       "      <td>5.000000</td>\n",
       "      <td>4.000000</td>\n",
       "      <td>41.000000</td>\n",
       "      <td>90.743243</td>\n",
       "      <td>45.594312</td>\n",
       "      <td>76.014773</td>\n",
       "      <td>40.466455</td>\n",
       "    </tr>\n",
       "    <tr>\n",
       "      <th>max</th>\n",
       "      <td>23.000000</td>\n",
       "      <td>379.000000</td>\n",
       "      <td>24.000000</td>\n",
       "      <td>12.000000</td>\n",
       "      <td>31.000000</td>\n",
       "      <td>6.000000</td>\n",
       "      <td>4.000000</td>\n",
       "      <td>53.000000</td>\n",
       "      <td>94.625843</td>\n",
       "      <td>50.436993</td>\n",
       "      <td>96.076211</td>\n",
       "      <td>62.165739</td>\n",
       "    </tr>\n",
       "  </tbody>\n",
       "</table>\n",
       "</div>"
      ],
      "text/plain": [
       "               hour        demand         entry         Month           day  \\\n",
       "count  18247.000000  18247.000000  18247.000000  18247.000000  18247.000000   \n",
       "mean      12.614731     73.991451     20.676659      6.470324     15.782430   \n",
       "std        6.544963     41.678988      2.201813      3.618189      8.772904   \n",
       "min        0.000000      1.000000      7.000000      1.000000      1.000000   \n",
       "25%        8.000000     43.000000     20.000000      3.000000      8.000000   \n",
       "50%       13.000000     71.000000     21.000000      7.000000     16.000000   \n",
       "75%       18.000000     98.000000     22.000000     10.000000     23.000000   \n",
       "max       23.000000    379.000000     24.000000     12.000000     31.000000   \n",
       "\n",
       "           day_week       quarter          week            hm            hs  \\\n",
       "count  18247.000000  18247.000000  18247.000000  18247.000000  18247.000000   \n",
       "mean       3.025867      2.501233     26.543706     73.991451     38.134046   \n",
       "std        2.003638      1.167955     15.828694     15.100602      7.529657   \n",
       "min        0.000000      1.000000      1.000000     49.097633     28.839183   \n",
       "25%        1.000000      1.000000     12.000000     59.585608     30.605050   \n",
       "50%        3.000000      3.000000     27.000000     70.292824     35.864088   \n",
       "75%        5.000000      4.000000     41.000000     90.743243     45.594312   \n",
       "max        6.000000      4.000000     53.000000     94.625843     50.436993   \n",
       "\n",
       "                ehm           ehs  \n",
       "count  18247.000000  18247.000000  \n",
       "mean      73.991451     39.938372  \n",
       "std        8.753737      8.149379  \n",
       "min       64.308677     32.966208  \n",
       "25%       67.603868     34.594835  \n",
       "50%       73.252600     38.470985  \n",
       "75%       76.014773     40.466455  \n",
       "max       96.076211     62.165739  "
      ]
     },
     "execution_count": 20,
     "metadata": {},
     "output_type": "execute_result"
    }
   ],
   "source": [
    "train.describe()"
   ]
  },
  {
   "cell_type": "code",
   "execution_count": 21,
   "id": "8c6a0005",
   "metadata": {},
   "outputs": [],
   "source": [
    "x=train[train['hour']==0]"
   ]
  },
  {
   "cell_type": "code",
   "execution_count": 22,
   "id": "d2b00316",
   "metadata": {},
   "outputs": [
    {
     "data": {
      "text/plain": [
       "2019    298\n",
       "2020    293\n",
       "2018     83\n",
       "2021     52\n",
       "Name: date, dtype: int64"
      ]
     },
     "execution_count": 22,
     "metadata": {},
     "output_type": "execute_result"
    }
   ],
   "source": [
    "x['date'].dt.year.value_counts()"
   ]
  },
  {
   "cell_type": "code",
   "execution_count": 23,
   "id": "e6bfb69c",
   "metadata": {},
   "outputs": [
    {
     "data": {
      "text/plain": [
       "<AxesSubplot:>"
      ]
     },
     "execution_count": 23,
     "metadata": {},
     "output_type": "execute_result"
    },
    {
     "data": {
      "image/png": "[encoded data removed]",
      "text/plain": [
       "<Figure size 1080x1080 with 2 Axes>"
      ]
     },
     "metadata": {
      "needs_background": "light"
     },
     "output_type": "display_data"
    }
   ],
   "source": [
    "plt.figure(figsize=(15,15))\n",
    "sns.heatmap(train.corr(),annot=True)"
   ]
  },
  {
   "cell_type": "code",
   "execution_count": 24,
   "id": "e6d33c02",
   "metadata": {},
   "outputs": [
    {
     "data": {
      "text/plain": [
       "(Index(['date', 'hour', 'demand', 'entry', 'Month', 'day', 'day_week',\n",
       "        'quarter', 'week', 'hm', 'hs', 'ehm', 'ehs'],\n",
       "       dtype='object'),\n",
       " Index(['date', 'hour', 'entry', 'Month', 'day', 'day_week', 'quarter', 'week',\n",
       "        'hm', 'hs', 'ehm', 'ehs'],\n",
       "       dtype='object'))"
      ]
     },
     "execution_count": 24,
     "metadata": {},
     "output_type": "execute_result"
    }
   ],
   "source": [
    "train.columns,test.columns"
   ]
  },
  {
   "cell_type": "code",
   "execution_count": 25,
   "id": "ff83edcf",
   "metadata": {},
   "outputs": [],
   "source": [
    "X=train.drop(['demand','date'],axis=1)"
   ]
  },
  {
   "cell_type": "code",
   "execution_count": 26,
   "id": "bb66ac73",
   "metadata": {},
   "outputs": [],
   "source": [
    "y=train['demand']"
   ]
  },
  {
   "cell_type": "code",
   "execution_count": 27,
   "id": "8921e680",
   "metadata": {},
   "outputs": [
    {
     "name": "stdout",
     "output_type": "stream",
     "text": [
      "<class 'pandas.core.frame.DataFrame'>\n",
      "RangeIndex: 18247 entries, 0 to 18246\n",
      "Data columns (total 11 columns):\n",
      " #   Column    Non-Null Count  Dtype  \n",
      "---  ------    --------------  -----  \n",
      " 0   hour      18247 non-null  int64  \n",
      " 1   entry     18247 non-null  int64  \n",
      " 2   Month     18247 non-null  int64  \n",
      " 3   day       18247 non-null  int64  \n",
      " 4   day_week  18247 non-null  int64  \n",
      " 5   quarter   18247 non-null  int64  \n",
      " 6   week      18247 non-null  int64  \n",
      " 7   hm        18247 non-null  float64\n",
      " 8   hs        18247 non-null  float64\n",
      " 9   ehm       18247 non-null  float64\n",
      " 10  ehs       18247 non-null  float64\n",
      "dtypes: float64(4), int64(7)\n",
      "memory usage: 1.5 MB\n"
     ]
    }
   ],
   "source": [
    "X.info()"
   ]
  },
  {
   "cell_type": "markdown",
   "id": "d1bb206f",
   "metadata": {},
   "source": [
    "## Linear regression"
   ]
  },
  {
   "cell_type": "raw",
   "id": "d93e139b",
   "metadata": {},
   "source": [
    "from sklearn.linear_model import LinearRegression\n",
    "base_model = LinearRegression()\n",
    "base_model.fit(X, y)"
   ]
  },
  {
   "cell_type": "code",
   "execution_count": 28,
   "id": "3f310f68",
   "metadata": {},
   "outputs": [],
   "source": [
    "test1=test.drop('date',axis=1)"
   ]
  },
  {
   "cell_type": "raw",
   "id": "1d8253b8",
   "metadata": {},
   "source": [
    "y_predict = base_model.predict(test1)"
   ]
  },
  {
   "cell_type": "raw",
   "id": "f3351228",
   "metadata": {},
   "source": [
    "test['demand']=y_predict"
   ]
  },
  {
   "cell_type": "raw",
   "id": "3e022a9e",
   "metadata": {},
   "source": [
    "y_pred = base_model.predict(X)\n",
    "\n",
    "from sklearn.metrics import mean_squared_error\n",
    "mean_squared_error(y_pred, y, squared=False)"
   ]
  },
  {
   "cell_type": "raw",
   "id": "84230d39",
   "metadata": {},
   "source": [
    "test"
   ]
  },
  {
   "cell_type": "markdown",
   "id": "1f04b842",
   "metadata": {},
   "source": [
    "## Decision tree"
   ]
  },
  {
   "cell_type": "raw",
   "id": "86b8703a",
   "metadata": {},
   "source": [
    "from sklearn.tree import DecisionTreeRegressor\n",
    "regressor = DecisionTreeRegressor(random_state=0 , max_depth=5)"
   ]
  },
  {
   "cell_type": "raw",
   "id": "d0030445",
   "metadata": {},
   "source": [
    "regressor.fit(X, y)"
   ]
  },
  {
   "cell_type": "raw",
   "id": "3a0bca68",
   "metadata": {},
   "source": [
    "y_predict = base_model.predict(test1)\n",
    "y_pred = base_model.predict(X)"
   ]
  },
  {
   "cell_type": "raw",
   "id": "a8a6de54",
   "metadata": {},
   "source": [
    "from sklearn.metrics import mean_squared_error\n",
    "mean_squared_error(y_pred, y, squared=False)"
   ]
  },
  {
   "cell_type": "raw",
   "id": "bffa0239",
   "metadata": {},
   "source": [
    "test['demand']=y_predict\n",
    "test"
   ]
  },
  {
   "cell_type": "code",
   "execution_count": 36,
   "id": "0214e202",
   "metadata": {},
   "outputs": [],
   "source": [
    "train.columns\n",
    "\n",
    "feats=['hour' ,'entry', 'Month', 'day', 'day_week',\n",
    "      #'quarter', 'week',\n",
    "       'hm','hs','ehm','ehs'\n",
    "      ]"
   ]
  },
  {
   "cell_type": "code",
   "execution_count": 37,
   "id": "86eaeaf4",
   "metadata": {},
   "outputs": [
    {
     "data": {
      "text/plain": [
       "LGBMRegressor()"
      ]
     },
     "execution_count": 37,
     "metadata": {},
     "output_type": "execute_result"
    }
   ],
   "source": [
    "import lightgbm as lgb\n",
    "# lgb_model = lgb.LGBMRegressor(max_depth=2,num_leaves = 3,n_estimators = 20)\n",
    "# lgb_model = lgb.LGBMRegressor(objective='quantile',alpha=0.5)\n",
    "lgb_model = lgb.LGBMRegressor()\n",
    "lgb_model.fit(train[feats],y)"
   ]
  },
  {
   "cell_type": "code",
   "execution_count": 38,
   "id": "1a320003",
   "metadata": {},
   "outputs": [],
   "source": [
    "y_predlgbm=lgb_model.predict(test1[feats])"
   ]
  },
  {
   "cell_type": "code",
   "execution_count": 39,
   "id": "4fd3286a",
   "metadata": {},
   "outputs": [],
   "source": [
    "y_predl=lgb_model.predict(train[feats])"
   ]
  },
  {
   "cell_type": "code",
   "execution_count": 40,
   "id": "84ded240",
   "metadata": {},
   "outputs": [],
   "source": [
    "test['demand']=y_predlgbm"
   ]
  },
  {
   "cell_type": "code",
   "execution_count": 41,
   "id": "c911dc8e",
   "metadata": {},
   "outputs": [
    {
     "data": {
      "text/plain": [
       "30.37482562561356"
      ]
     },
     "execution_count": 41,
     "metadata": {},
     "output_type": "execute_result"
    }
   ],
   "source": [
    "y_pred = lgb_model.predict(train[feats])\n",
    "\n",
    "from sklearn.metrics import mean_squared_error\n",
    "mean_squared_error(y_predl, y, squared=False)"
   ]
  },
  {
   "cell_type": "code",
   "execution_count": null,
   "id": "3bccb017",
   "metadata": {},
   "outputs": [],
   "source": []
  },
  {
   "cell_type": "markdown",
   "id": "2df00b75",
   "metadata": {},
   "source": [
    "## Output"
   ]
  },
  {
   "cell_type": "code",
   "execution_count": 42,
   "id": "9c564360",
   "metadata": {},
   "outputs": [],
   "source": [
    "new=test[['date','hour','demand']]\n",
    "\n",
    "new.to_csv('lgbmf1.csv',index=False)"
   ]
  },
  {
   "cell_type": "code",
   "execution_count": null,
   "id": "77cd2ee6",
   "metadata": {},
   "outputs": [],
   "source": []
  }
 ],
 "metadata": {
  "kernelspec": {
   "display_name": "Python 3 (ipykernel)",
   "language": "python",
   "name": "python3"
  },
  "language_info": {
   "codemirror_mode": {
    "name": "ipython",
    "version": 3
   },
   "file_extension": ".py",
   "mimetype": "text/x-python",
   "name": "python",
   "nbconvert_exporter": "python",
   "pygments_lexer": "ipython3",
   "version": "3.9.12"
  },
  "toc": {
   "base_numbering": 1,
   "nav_menu": {},
   "number_sections": true,
   "sideBar": true,
   "skip_h1_title": false,
   "title_cell": "Table of Contents",
   "title_sidebar": "Contents",
   "toc_cell": false,
   "toc_position": {},
   "toc_section_display": true,
   "toc_window_display": true
  }
 },
 "nbformat": 4,
 "nbformat_minor": 5
}
